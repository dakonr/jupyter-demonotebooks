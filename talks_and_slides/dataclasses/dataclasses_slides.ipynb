{
 "cells": [
  {
   "cell_type": "markdown",
   "id": "b680e7ad",
   "metadata": {
    "slideshow": {
     "slide_type": "slide"
    }
   },
   "source": [
    "# Dataclass\n",
    "\n",
    "```python\n",
    "from dataclasses import dataclass\n",
    "```"
   ]
  },
  {
   "cell_type": "markdown",
   "id": "aad093b7",
   "metadata": {
    "slideshow": {
     "slide_type": "slide"
    }
   },
   "source": [
    "# Was ist eine Dataclass?\n",
    "- Eine Klasse mit Attributen mit Inhalten (Dataholder)\n",
    "- Code Generator, der es vereinfacht, eine Klasse zu schreiben (Magic Methods...)"
   ]
  },
  {
   "cell_type": "markdown",
   "id": "8d18c559",
   "metadata": {
    "slideshow": {
     "slide_type": "slide"
    }
   },
   "source": [
    "# Wo kommen wir her?"
   ]
  },
  {
   "cell_type": "markdown",
   "id": "18bb8283",
   "metadata": {
    "slideshow": {
     "slide_type": "subslide"
    }
   },
   "source": [
    "## Tuples"
   ]
  },
  {
   "cell_type": "code",
   "execution_count": null,
   "id": "72631240",
   "metadata": {
    "slideshow": {
     "slide_type": "fragment"
    }
   },
   "outputs": [],
   "source": [
    "('49/69/1/7WAB', '10.200.19.10', 'SPO', [])"
   ]
  },
  {
   "cell_type": "markdown",
   "id": "61eef564",
   "metadata": {
    "slideshow": {
     "slide_type": "subslide"
    }
   },
   "source": [
    "## Dictionarys"
   ]
  },
  {
   "cell_type": "code",
   "execution_count": null,
   "id": "d32b7c0c",
   "metadata": {
    "slideshow": {
     "slide_type": "fragment"
    }
   },
   "outputs": [],
   "source": [
    "{\n",
    "    'name': '49/69/1/7WAB',\n",
    "    'ip_address': '10.200.19.10',\n",
    "    'typ': 'SPO', \n",
    "    'inventory': [],\n",
    "}"
   ]
  },
  {
   "cell_type": "markdown",
   "id": "2b0b2390",
   "metadata": {
    "slideshow": {
     "slide_type": "slide"
    }
   },
   "source": [
    "# namedtuple\n",
    "(auch ein Code Generator)"
   ]
  },
  {
   "cell_type": "code",
   "execution_count": null,
   "id": "28beda80",
   "metadata": {
    "slideshow": {
     "slide_type": "fragment"
    }
   },
   "outputs": [],
   "source": [
    "from collections import namedtuple\n",
    "NetworkElement = namedtuple('NetworkElement', ['name', 'ip_address', 'typ', 'inventory'])"
   ]
  },
  {
   "cell_type": "code",
   "execution_count": null,
   "id": "805352aa",
   "metadata": {
    "slideshow": {
     "slide_type": "fragment"
    }
   },
   "outputs": [],
   "source": [
    "dir(NetworkElement)"
   ]
  },
  {
   "cell_type": "code",
   "execution_count": null,
   "id": "3afb5cb2",
   "metadata": {
    "slideshow": {
     "slide_type": "subslide"
    }
   },
   "outputs": [],
   "source": [
    "ne1 = NetworkElement('49/69/1/7WAB', '10.200.19.10', 'SPO', [])"
   ]
  },
  {
   "cell_type": "code",
   "execution_count": null,
   "id": "82e97200",
   "metadata": {
    "slideshow": {
     "slide_type": "fragment"
    }
   },
   "outputs": [],
   "source": [
    "ne1"
   ]
  },
  {
   "cell_type": "markdown",
   "id": "9e6d785a",
   "metadata": {
    "slideshow": {
     "slide_type": "slide"
    }
   },
   "source": [
    "# handgeschriebene Klassen"
   ]
  },
  {
   "cell_type": "code",
   "execution_count": null,
   "id": "11d85116",
   "metadata": {
    "slideshow": {
     "slide_type": "fragment"
    }
   },
   "outputs": [],
   "source": [
    "class NetworkElementClass:\n",
    "    name: str\n",
    "    ip_address: str\n",
    "    typ: str\n",
    "    inventory: list = []\n",
    "    \n",
    "    def __init__(self, name, ip_address, typ):\n",
    "        self.name = name\n",
    "        self.ip_address = ip_address\n",
    "        self.typ = typ\n",
    "        \n",
    "ne1 = NetworkElementClass('49/69/1/7WAB', '10.200.19.10', 'SPO')\n",
    "ne2 = NetworkElementClass('49/69/1/7WAB', '10.200.19.10', 'SPO')"
   ]
  },
  {
   "cell_type": "code",
   "execution_count": null,
   "id": "e784247a",
   "metadata": {
    "slideshow": {
     "slide_type": "fragment"
    }
   },
   "outputs": [],
   "source": [
    "dir(ne1)"
   ]
  },
  {
   "cell_type": "code",
   "execution_count": null,
   "id": "831dc00d",
   "metadata": {
    "slideshow": {
     "slide_type": "fragment"
    }
   },
   "outputs": [],
   "source": [
    "ne1 == ne2"
   ]
  },
  {
   "cell_type": "code",
   "execution_count": null,
   "id": "dd6fdf1d",
   "metadata": {
    "slideshow": {
     "slide_type": "fragment"
    }
   },
   "outputs": [],
   "source": [
    "hash(ne2)\n",
    "ne1"
   ]
  },
  {
   "cell_type": "markdown",
   "id": "5ef78579",
   "metadata": {
    "slideshow": {
     "slide_type": "subslide"
    }
   },
   "source": [
    "# Funktionalität fehlt und unerwartetes Verhalten!\n",
    "- Viel selbst geschriebener Code\n",
    "- Unerwartetes Verhalten\n",
    "- \"Nur\" als Datenhalter zu verwenden\n",
    "\n",
    "#### Weitere Modelle:\n",
    "- ORMs (Django, SQL Archemy, ...)\n",
    "- third-party (mypy, attrs, ...)"
   ]
  },
  {
   "cell_type": "markdown",
   "id": "825650b1",
   "metadata": {
    "slideshow": {
     "slide_type": "slide"
    }
   },
   "source": [
    "# Das, als dataclass"
   ]
  },
  {
   "cell_type": "code",
   "execution_count": null,
   "id": "5620352e",
   "metadata": {
    "slideshow": {
     "slide_type": "fragment"
    }
   },
   "outputs": [],
   "source": [
    "from dataclasses import dataclass, field\n",
    "\n",
    "@dataclass\n",
    "class NetworkElement:\n",
    "    name: str\n",
    "    ip_address: str\n",
    "    typ: str\n",
    "    inventory: list = field(default_factory=list)"
   ]
  },
  {
   "cell_type": "code",
   "execution_count": null,
   "id": "3cc31288",
   "metadata": {
    "slideshow": {
     "slide_type": "fragment"
    }
   },
   "outputs": [],
   "source": [
    "ne1 = NetworkElement('49/69/1/7WAB', '10.200.19.10', 'SPO')\n",
    "ne2 = NetworkElement('49/69/1/7WAB', '10.200.19.10', 'SPO')"
   ]
  },
  {
   "cell_type": "code",
   "execution_count": null,
   "id": "e279de45",
   "metadata": {
    "slideshow": {
     "slide_type": "fragment"
    }
   },
   "outputs": [],
   "source": [
    "dir(ne1)"
   ]
  },
  {
   "cell_type": "code",
   "execution_count": null,
   "id": "62069b05",
   "metadata": {
    "slideshow": {
     "slide_type": "fragment"
    }
   },
   "outputs": [],
   "source": [
    "ne1"
   ]
  },
  {
   "cell_type": "code",
   "execution_count": null,
   "id": "5c4d258a",
   "metadata": {
    "slideshow": {
     "slide_type": "fragment"
    }
   },
   "outputs": [],
   "source": [
    "ne1 == ne2"
   ]
  },
  {
   "cell_type": "code",
   "execution_count": null,
   "id": "af6dd4d5",
   "metadata": {
    "slideshow": {
     "slide_type": "fragment"
    }
   },
   "outputs": [],
   "source": [
    "hash(ne1)"
   ]
  },
  {
   "cell_type": "code",
   "execution_count": null,
   "id": "ccb161ad",
   "metadata": {
    "slideshow": {
     "slide_type": "fragment"
    }
   },
   "outputs": [],
   "source": [
    "print(ne1.__hash__)"
   ]
  },
  {
   "cell_type": "markdown",
   "id": "7a448d48",
   "metadata": {
    "slideshow": {
     "slide_type": "slide"
    }
   },
   "source": [
    "# Was ist eine dataclass?\n",
    "- Datenhalter\n",
    "- Code Generator\n",
    "\n",
    "#### Voraussetzungen:\n",
    "Python >= 3.7"
   ]
  },
  {
   "cell_type": "markdown",
   "id": "a8715c17",
   "metadata": {
    "slideshow": {
     "slide_type": "slide"
    }
   },
   "source": [
    "# weitere dataclass Funktionen"
   ]
  },
  {
   "cell_type": "code",
   "execution_count": null,
   "id": "230f4a34",
   "metadata": {
    "slideshow": {
     "slide_type": "fragment"
    }
   },
   "outputs": [],
   "source": [
    "from dataclasses import replace, asdict, astuple"
   ]
  },
  {
   "cell_type": "code",
   "execution_count": null,
   "id": "61593153",
   "metadata": {
    "slideshow": {
     "slide_type": "fragment"
    }
   },
   "outputs": [],
   "source": [
    "replace(ne1, name='49/69/0/7WAC')"
   ]
  },
  {
   "cell_type": "code",
   "execution_count": null,
   "id": "cfdab86d",
   "metadata": {
    "slideshow": {
     "slide_type": "fragment"
    }
   },
   "outputs": [],
   "source": [
    "asdict(ne1)"
   ]
  },
  {
   "cell_type": "code",
   "execution_count": null,
   "id": "466aad25",
   "metadata": {
    "slideshow": {
     "slide_type": "fragment"
    }
   },
   "outputs": [],
   "source": [
    "astuple(ne1)"
   ]
  },
  {
   "cell_type": "code",
   "execution_count": null,
   "id": "596fde9e",
   "metadata": {
    "slideshow": {
     "slide_type": "fragment"
    }
   },
   "outputs": [],
   "source": [
    "NetworkElement.__annotations__"
   ]
  },
  {
   "cell_type": "code",
   "execution_count": null,
   "id": "3762b246",
   "metadata": {
    "slideshow": {
     "slide_type": "fragment"
    }
   },
   "outputs": [],
   "source": [
    "ne1.name = '49/69/0/7WAC'\n",
    "ne1"
   ]
  },
  {
   "cell_type": "code",
   "execution_count": null,
   "id": "5776296b",
   "metadata": {
    "slideshow": {
     "slide_type": "fragment"
    }
   },
   "outputs": [],
   "source": [
    "import sys\n",
    "sys.getsizeof(ne1)"
   ]
  },
  {
   "cell_type": "code",
   "execution_count": null,
   "id": "6b983c79",
   "metadata": {
    "scrolled": true,
    "slideshow": {
     "slide_type": "fragment"
    }
   },
   "outputs": [],
   "source": [
    "import timeit\n",
    "min(timeit.repeat('ne1.inventory', 'from __main__ import ne1'))"
   ]
  },
  {
   "cell_type": "markdown",
   "id": "7713f87f",
   "metadata": {
    "slideshow": {
     "slide_type": "slide"
    }
   },
   "source": [
    "# Field Function"
   ]
  },
  {
   "cell_type": "code",
   "execution_count": null,
   "id": "d70e3e55",
   "metadata": {
    "slideshow": {
     "slide_type": "fragment"
    }
   },
   "outputs": [],
   "source": [
    "from dataclasses import dataclass, field, fields\n",
    "\n",
    "@dataclass\n",
    "class Position:\n",
    "    name: str\n",
    "    attributes: list = field(default_factory=list)\n",
    "    lon: float = field(default=0.0, metadata={'unit': 'degrees'})\n",
    "    lat: float = field(default=0.0, metadata={'unit': 'degrees'})"
   ]
  },
  {
   "cell_type": "code",
   "execution_count": null,
   "id": "68e06dc4",
   "metadata": {
    "slideshow": {
     "slide_type": "fragment"
    }
   },
   "outputs": [],
   "source": [
    "lat_unit = fields(Position)[2].metadata['unit']\n",
    "lat_unit"
   ]
  },
  {
   "cell_type": "markdown",
   "id": "1d73fca2",
   "metadata": {
    "slideshow": {
     "slide_type": "fragment"
    }
   },
   "source": [
    "# field() funktionelle Parameter\n",
    "- type\n",
    "- default\n",
    "- metadata\n",
    "- default_factory\n",
    "- init\n",
    "- repr\n",
    "- hash\n",
    "- compare"
   ]
  },
  {
   "cell_type": "markdown",
   "id": "6dcc6aa7",
   "metadata": {
    "slideshow": {
     "slide_type": "slide"
    }
   },
   "source": [
    "# Dataclass Parameters"
   ]
  },
  {
   "cell_type": "code",
   "execution_count": null,
   "id": "64d83de5",
   "metadata": {
    "slideshow": {
     "slide_type": "fragment"
    }
   },
   "outputs": [],
   "source": [
    "from dataclasses import dataclass\n",
    "\n",
    "@dataclass(frozen=True)\n",
    "class Position:\n",
    "    name: str\n",
    "    lon: float = 0.0\n",
    "    lat: float = 0.0\n",
    "        \n",
    "pos = Position('Nuremberg', 11.06, 49.46)\n",
    "pos.name\n",
    "\n",
    "pos.name = 'Bamberg'"
   ]
  },
  {
   "cell_type": "markdown",
   "id": "5e4fc381",
   "metadata": {
    "slideshow": {
     "slide_type": "fragment"
    }
   },
   "source": [
    "- init=True\n",
    "- repr=True\n",
    "- eq=True\n",
    "- order=False\n",
    "- unsafe_hash=False\n",
    "- frozen=False"
   ]
  },
  {
   "cell_type": "markdown",
   "id": "22472677",
   "metadata": {
    "slideshow": {
     "slide_type": "slide"
    }
   },
   "source": [
    "# Zusammenfassung\n",
    "- Dataholder\n",
    "- Code Generator (Magic Methods, Verhindert falsche Annahmen, \"Leichtsinnsfehler\"...)"
   ]
  },
  {
   "cell_type": "markdown",
   "id": "a4edd912",
   "metadata": {
    "slideshow": {
     "slide_type": "slide"
    }
   },
   "source": [
    "# Danke!"
   ]
  },
  {
   "cell_type": "code",
   "execution_count": 32,
   "id": "cfe90188",
   "metadata": {
    "slideshow": {
     "slide_type": "-"
    }
   },
   "outputs": [
    {
     "data": {
      "text/plain": [
       "Speaker(name='Daniel Konrad', email='mail@daniel-konrad.com', twitter='@dakonr')"
      ]
     },
     "execution_count": 32,
     "metadata": {},
     "output_type": "execute_result"
    }
   ],
   "source": [
    "from dataclasses import dataclass, field\n",
    "\n",
    "@dataclass(frozen=True)\n",
    "class Speaker:\n",
    "    name: str\n",
    "    email: str\n",
    "    twitter: str\n",
    "    phone: str = field(repr=False)\n",
    "        \n",
    "speaker_today = Speaker('Daniel Konrad', 'mail@daniel-konrad.com', '@dakonr', '5126')\n",
    "speaker_today"
   ]
  },
  {
   "cell_type": "markdown",
   "id": "ecbc5781",
   "metadata": {
    "slideshow": {
     "slide_type": "-"
    }
   },
   "source": [
    "Dokumentation \"Data Classes\" auf [ python.org docs (https://docs.python.org/3/library/dataclasses.html)]( https://docs.python.org/3/library/dataclasses.html )"
   ]
  }
 ],
 "metadata": {
  "celltoolbar": "Slideshow",
  "kernelspec": {
   "display_name": "Python 3 (ipykernel)",
   "language": "python",
   "name": "python3"
  },
  "language_info": {
   "codemirror_mode": {
    "name": "ipython",
    "version": 3
   },
   "file_extension": ".py",
   "mimetype": "text/x-python",
   "name": "python",
   "nbconvert_exporter": "python",
   "pygments_lexer": "ipython3",
   "version": "3.9.6"
  },
  "rise": {
   "auto_select": "code",
   "auto_select_fragment": true,
   "footer": "<h3 style='text-align: center'>Daniel Konrad | Dataclasses in Python</h3>",
   "scroll": true,
   "theme": "simple"
  }
 },
 "nbformat": 4,
 "nbformat_minor": 5
}
