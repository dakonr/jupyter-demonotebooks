{
 "cells": [
  {
   "cell_type": "markdown",
   "metadata": {},
   "source": [
    "# Pi berechnen und darstellen - statistisch bestimmen\n",
    "Aufgabe ist es, pi (die Kreiszahl) zu berechenen anhand eines Einheitskreises zu berechnen und dieses Modell grafisch darzustellen.\n",
    "\n",
    "Wiki: https://de.wikipedia.org/wiki/Kreiszahl\n",
    "-> Monte-Carlo-Algorithmus\n",
    "Verwendete (externe) Module:\n",
    "- numpy\n",
    "- matplotlib"
   ]
  },
  {
   "cell_type": "code",
   "execution_count": 3,
   "metadata": {},
   "outputs": [],
   "source": [
    "%matplotlib inline"
   ]
  }
 ],
 "metadata": {
  "kernelspec": {
   "display_name": "Python 3",
   "language": "python",
   "name": "python3"
  },
  "language_info": {
   "codemirror_mode": {
    "name": "ipython",
    "version": 3
   },
   "file_extension": ".py",
   "mimetype": "text/x-python",
   "name": "python",
   "nbconvert_exporter": "python",
   "pygments_lexer": "ipython3",
   "version": "3.8.0"
  }
 },
 "nbformat": 4,
 "nbformat_minor": 2
}
