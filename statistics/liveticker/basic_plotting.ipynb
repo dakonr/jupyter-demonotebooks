{
 "cells": [
  {
   "cell_type": "markdown",
   "metadata": {},
   "source": [
    "# Example of basic plotting"
   ]
  },
  {
   "cell_type": "code",
   "execution_count": null,
   "metadata": {},
   "outputs": [],
   "source": [
    "import seaborn as sns\n",
    "import pandas as pd"
   ]
  },
  {
   "cell_type": "code",
   "execution_count": null,
   "metadata": {},
   "outputs": [],
   "source": [
    "sns.set_theme(style=\"whitegrid\", palette=\"muted\")\n",
    "df_liveticker = pd.read_csv(\"liveticker.csv\")\n",
    "df_liveticker[\"timestamp\"] = pd.to_datetime(df_liveticker[\"timestamp\"])\n",
    "df_liveticker = df_liveticker.set_index(\"timestamp\")"
   ]
  },
  {
   "cell_type": "code",
   "execution_count": null,
   "metadata": {},
   "outputs": [],
   "source": [
    "df_heartrate = pd.read_csv(\"HKQuantityTypeIdentifierHeartRate_2022-05-142_21-50-07_SimpleHealthExportCSV.csv\", skiprows=1)\n",
    "timestamp = pd.to_datetime(df_heartrate[\"startDate\"])\n",
    "df_heartrate.insert(0, \"timestamp\", timestamp)\n",
    "df_heartrate = df_heartrate.set_index(\"timestamp\")"
   ]
  },
  {
   "cell_type": "code",
   "execution_count": null,
   "metadata": {},
   "outputs": [],
   "source": [
    "df_heartrate = df_heartrate[\"2022-05-21T18:00:00+00:00\" : \"2022-05-21T20:47:14+00:00\"]\n",
    "rr_interval = 60000 / df_heartrate[\"value\"]\n",
    "df_heartrate.insert(4, \"rr_interval\", rr_interval)\n",
    "\n"
   ]
  },
  {
   "cell_type": "code",
   "execution_count": null,
   "metadata": {},
   "outputs": [],
   "source": [
    "df_heartrate = df_heartrate[[\"value\", \"rr_interval\"]]"
   ]
  },
  {
   "cell_type": "code",
   "execution_count": null,
   "metadata": {},
   "outputs": [],
   "source": [
    "df_heartrate.plot()"
   ]
  },
  {
   "cell_type": "code",
   "execution_count": null,
   "metadata": {},
   "outputs": [],
   "source": [
    "df_merged = pd.merge_asof(\n",
    "    df_heartrate, df_liveticker,\n",
    "    left_index=True,\n",
    "    right_index=True,\n",
    "    tolerance=pd.to_timedelta(\"1 min\"),\n",
    "    direction=\"backward\"\n",
    "    )"
   ]
  },
  {
   "cell_type": "code",
   "execution_count": null,
   "metadata": {},
   "outputs": [],
   "source": [
    "df_merged.head()"
   ]
  },
  {
   "cell_type": "code",
   "execution_count": null,
   "metadata": {},
   "outputs": [],
   "source": [
    "df_merged.to_csv(\"merged.csv\")"
   ]
  },
  {
   "cell_type": "code",
   "execution_count": null,
   "metadata": {},
   "outputs": [],
   "source": [
    "import matplotlib.pyplot as plt\n",
    "import matplotlib.dates as mdates\n",
    "import seaborn as sns\n"
   ]
  },
  {
   "cell_type": "code",
   "execution_count": null,
   "metadata": {},
   "outputs": [],
   "source": [
    "x = df_merged.index.values"
   ]
  },
  {
   "cell_type": "code",
   "execution_count": null,
   "metadata": {},
   "outputs": [],
   "source": [
    "import numpy as np\n",
    "rr_interval = df_merged.rr_interval.values\n",
    "df_merged.is_goal.replace({True: 200, False: 0, np.nan: 0}, inplace=True)\n",
    "df_merged.is_card.replace({True: 100, False: 0, np.nan: 0}, inplace=True)\n",
    "df_merged.halftime.replace({1: 100, 2: 100, np.nan: 0}, inplace=True)\n",
    "liveticker_value = df_merged[\"is_goal\"] + df_merged[\"is_card\"] + df_merged[\"halftime\"]"
   ]
  },
  {
   "cell_type": "code",
   "execution_count": null,
   "metadata": {},
   "outputs": [],
   "source": [
    "df_merged[\"liveticker_value\"] = liveticker_value"
   ]
  },
  {
   "cell_type": "code",
   "execution_count": null,
   "metadata": {},
   "outputs": [],
   "source": [
    "x = df_merged.index.values\n",
    "x = x.reshape(len(x), 1)\n",
    "rr_interval = df_merged.rr_interval.values\n",
    "rr_interval = rr_interval.reshape(len(rr_interval), 1)\n",
    "liveticker_value = df_merged[\"liveticker_value\"].values\n",
    "liveticker_value = liveticker_value.reshape(len(liveticker_value), 1)\n",
    "\n",
    "#sns.set()\n",
    "plt.rcParams[\"figure.figsize\"] = (100,6)\n",
    "plt.plot(x, rr_interval)\n",
    "plt.scatter(x, liveticker_value, c=\"red\")\n",
    "\n",
    "plt.show()"
   ]
  },
  {
   "cell_type": "code",
   "execution_count": null,
   "metadata": {},
   "outputs": [],
   "source": [
    "import json\n",
    "with open(\"metadata.json\", mode=\"r\") as file:\n",
    "    metadata = json.load(file)"
   ]
  },
  {
   "cell_type": "code",
   "execution_count": null,
   "metadata": {},
   "outputs": [],
   "source": [
    "x = df_merged.index.values\n",
    "x = x.reshape(len(x), 1)\n",
    "rr_interval = df_merged[\"rr_interval\"].values\n",
    "rr_interval = rr_interval.reshape(len(rr_interval), 1)\n",
    "liveticker_value = df_merged[\"liveticker_value\"].values\n",
    "liveticker_value = liveticker_value.reshape(len(liveticker_value), 1)\n",
    "\n",
    "sns.set()\n",
    "sns.set_style(\"whitegrid\")\n",
    "sns.set_context(\"paper\")\n",
    "plt.rcParams[\"figure.figsize\"] = (50,10)\n",
    "plt.xlabel(\"Zeitstempel\")\n",
    "plt.plot(x, rr_interval)\n",
    "plt.plot(x, liveticker_value, c=\"green\")\n",
    "plt.gca().xaxis.set_major_formatter(mdates.DateFormatter('%d.%m.%Y %H:%M'))\n",
    "plt.plot((pd.to_datetime(metadata[\"break_start\"]), pd.to_datetime(metadata[\"break_end\"])), (50,50), c=\"r\", linewidth=10)\n",
    "\n",
    "plt.show()"
   ]
  },
  {
   "cell_type": "code",
   "execution_count": null,
   "metadata": {},
   "outputs": [],
   "source": [
    "def rr_interval_sdnn(df: pd.DataFrame) -> pd.Series:\n",
    "    tmp_data = []\n",
    "    tmp_index = []\n",
    "    for element in df.itertuples():\n",
    "        #print(df[element.Index - pd.to_timedelta(\"1 min\") : element.Index][\"rr_interval\"].std())\n",
    "        tmp_data.append(\n",
    "            df[element.Index - pd.to_timedelta(\"1 min\") : element.Index][\"rr_interval\"].std()\n",
    "            )\n",
    "        tmp_index.append(element.Index)\n",
    "    return pd.Series(data=tmp_data, index=tmp_index)\n",
    "        \n",
    "        "
   ]
  },
  {
   "cell_type": "code",
   "execution_count": null,
   "metadata": {},
   "outputs": [],
   "source": [
    "rr_interval_sdnn(df_heartrate)"
   ]
  },
  {
   "cell_type": "code",
   "execution_count": null,
   "metadata": {},
   "outputs": [],
   "source": [
    "df_heartrate[\"rr_interval\"].std()"
   ]
  }
 ],
 "metadata": {
  "interpreter": {
   "hash": "b0fa6594d8f4cbf19f97940f81e996739fb7646882a419484c72d19e05852a7e"
  },
  "kernelspec": {
   "display_name": "Python 3.9.12 64-bit",
   "language": "python",
   "name": "python3"
  },
  "language_info": {
   "codemirror_mode": {
    "name": "ipython",
    "version": 3
   },
   "file_extension": ".py",
   "mimetype": "text/x-python",
   "name": "python",
   "nbconvert_exporter": "python",
   "pygments_lexer": "ipython3",
   "version": "3.9.12"
  },
  "orig_nbformat": 4
 },
 "nbformat": 4,
 "nbformat_minor": 2
}
