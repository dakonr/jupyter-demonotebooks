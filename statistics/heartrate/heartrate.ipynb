{
 "cells": [
  {
   "cell_type": "code",
   "execution_count": 17,
   "metadata": {},
   "outputs": [],
   "source": [
    "import pandas as pd"
   ]
  },
  {
   "cell_type": "code",
   "execution_count": 18,
   "metadata": {},
   "outputs": [],
   "source": [
    "df = pd.read_csv(\"HKQuantityTypeIdentifierHeartRateSimpleHealthExportCSV.csv\", skiprows=1)"
   ]
  },
  {
   "cell_type": "code",
   "execution_count": 19,
   "metadata": {},
   "outputs": [],
   "source": [
    "df = df[[\"startDate\", \"endDate\", \"unit\", \"value\", \"HKMetadataKeyHeartRateMotionContext\"]]"
   ]
  },
  {
   "cell_type": "code",
   "execution_count": 20,
   "metadata": {},
   "outputs": [
    {
     "data": {
      "text/html": [
       "<div>\n",
       "<style scoped>\n",
       "    .dataframe tbody tr th:only-of-type {\n",
       "        vertical-align: middle;\n",
       "    }\n",
       "\n",
       "    .dataframe tbody tr th {\n",
       "        vertical-align: top;\n",
       "    }\n",
       "\n",
       "    .dataframe thead th {\n",
       "        text-align: right;\n",
       "    }\n",
       "</style>\n",
       "<table border=\"1\" class=\"dataframe\">\n",
       "  <thead>\n",
       "    <tr style=\"text-align: right;\">\n",
       "      <th></th>\n",
       "      <th>startDate</th>\n",
       "      <th>endDate</th>\n",
       "      <th>unit</th>\n",
       "      <th>value</th>\n",
       "      <th>HKMetadataKeyHeartRateMotionContext</th>\n",
       "    </tr>\n",
       "  </thead>\n",
       "  <tbody>\n",
       "    <tr>\n",
       "      <th>0</th>\n",
       "      <td>2022-04-27 19:48:34 +0000</td>\n",
       "      <td>2022-04-27 19:48:34 +0000</td>\n",
       "      <td>count/min</td>\n",
       "      <td>76.0</td>\n",
       "      <td>0</td>\n",
       "    </tr>\n",
       "    <tr>\n",
       "      <th>1</th>\n",
       "      <td>2022-04-27 19:49:36 +0000</td>\n",
       "      <td>2022-04-27 19:49:36 +0000</td>\n",
       "      <td>count/min</td>\n",
       "      <td>79.0</td>\n",
       "      <td>0</td>\n",
       "    </tr>\n",
       "    <tr>\n",
       "      <th>2</th>\n",
       "      <td>2022-04-27 19:57:00 +0000</td>\n",
       "      <td>2022-04-27 19:57:00 +0000</td>\n",
       "      <td>count/min</td>\n",
       "      <td>74.0</td>\n",
       "      <td>0</td>\n",
       "    </tr>\n",
       "    <tr>\n",
       "      <th>3</th>\n",
       "      <td>2022-04-27 20:02:27 +0000</td>\n",
       "      <td>2022-04-27 20:02:27 +0000</td>\n",
       "      <td>count/min</td>\n",
       "      <td>79.0</td>\n",
       "      <td>0</td>\n",
       "    </tr>\n",
       "    <tr>\n",
       "      <th>4</th>\n",
       "      <td>2022-04-27 20:08:53 +0000</td>\n",
       "      <td>2022-04-27 20:08:53 +0000</td>\n",
       "      <td>count/min</td>\n",
       "      <td>74.0</td>\n",
       "      <td>0</td>\n",
       "    </tr>\n",
       "  </tbody>\n",
       "</table>\n",
       "</div>"
      ],
      "text/plain": [
       "                   startDate                    endDate       unit  value  \\\n",
       "0  2022-04-27 19:48:34 +0000  2022-04-27 19:48:34 +0000  count/min   76.0   \n",
       "1  2022-04-27 19:49:36 +0000  2022-04-27 19:49:36 +0000  count/min   79.0   \n",
       "2  2022-04-27 19:57:00 +0000  2022-04-27 19:57:00 +0000  count/min   74.0   \n",
       "3  2022-04-27 20:02:27 +0000  2022-04-27 20:02:27 +0000  count/min   79.0   \n",
       "4  2022-04-27 20:08:53 +0000  2022-04-27 20:08:53 +0000  count/min   74.0   \n",
       "\n",
       "   HKMetadataKeyHeartRateMotionContext  \n",
       "0                                    0  \n",
       "1                                    0  \n",
       "2                                    0  \n",
       "3                                    0  \n",
       "4                                    0  "
      ]
     },
     "execution_count": 20,
     "metadata": {},
     "output_type": "execute_result"
    }
   ],
   "source": [
    "df.head()"
   ]
  },
  {
   "cell_type": "code",
   "execution_count": 21,
   "metadata": {},
   "outputs": [],
   "source": [
    "timestamp = pd.to_datetime(df[\"startDate\"])"
   ]
  },
  {
   "cell_type": "code",
   "execution_count": 22,
   "metadata": {},
   "outputs": [
    {
     "data": {
      "text/plain": [
       "0      2022-04-27 19:48:34+00:00\n",
       "1      2022-04-27 19:49:36+00:00\n",
       "2      2022-04-27 19:57:00+00:00\n",
       "3      2022-04-27 20:02:27+00:00\n",
       "4      2022-04-27 20:08:53+00:00\n",
       "                  ...           \n",
       "2907   2022-04-28 21:20:05+00:00\n",
       "2908   2022-04-28 21:27:46+00:00\n",
       "2909   2022-04-28 21:31:59+00:00\n",
       "2910   2022-04-28 21:37:11+00:00\n",
       "2911   2022-04-28 21:40:22+00:00\n",
       "Name: startDate, Length: 2912, dtype: datetime64[ns, UTC]"
      ]
     },
     "execution_count": 22,
     "metadata": {},
     "output_type": "execute_result"
    }
   ],
   "source": [
    "timestamp"
   ]
  },
  {
   "cell_type": "code",
   "execution_count": 23,
   "metadata": {},
   "outputs": [],
   "source": [
    "df.insert(0, \"timestamp\", timestamp)"
   ]
  },
  {
   "cell_type": "code",
   "execution_count": 24,
   "metadata": {},
   "outputs": [
    {
     "data": {
      "text/html": [
       "<div>\n",
       "<style scoped>\n",
       "    .dataframe tbody tr th:only-of-type {\n",
       "        vertical-align: middle;\n",
       "    }\n",
       "\n",
       "    .dataframe tbody tr th {\n",
       "        vertical-align: top;\n",
       "    }\n",
       "\n",
       "    .dataframe thead th {\n",
       "        text-align: right;\n",
       "    }\n",
       "</style>\n",
       "<table border=\"1\" class=\"dataframe\">\n",
       "  <thead>\n",
       "    <tr style=\"text-align: right;\">\n",
       "      <th></th>\n",
       "      <th>timestamp</th>\n",
       "      <th>startDate</th>\n",
       "      <th>endDate</th>\n",
       "      <th>unit</th>\n",
       "      <th>value</th>\n",
       "      <th>HKMetadataKeyHeartRateMotionContext</th>\n",
       "    </tr>\n",
       "  </thead>\n",
       "  <tbody>\n",
       "    <tr>\n",
       "      <th>0</th>\n",
       "      <td>2022-04-27 19:48:34+00:00</td>\n",
       "      <td>2022-04-27 19:48:34 +0000</td>\n",
       "      <td>2022-04-27 19:48:34 +0000</td>\n",
       "      <td>count/min</td>\n",
       "      <td>76.0</td>\n",
       "      <td>0</td>\n",
       "    </tr>\n",
       "    <tr>\n",
       "      <th>1</th>\n",
       "      <td>2022-04-27 19:49:36+00:00</td>\n",
       "      <td>2022-04-27 19:49:36 +0000</td>\n",
       "      <td>2022-04-27 19:49:36 +0000</td>\n",
       "      <td>count/min</td>\n",
       "      <td>79.0</td>\n",
       "      <td>0</td>\n",
       "    </tr>\n",
       "    <tr>\n",
       "      <th>2</th>\n",
       "      <td>2022-04-27 19:57:00+00:00</td>\n",
       "      <td>2022-04-27 19:57:00 +0000</td>\n",
       "      <td>2022-04-27 19:57:00 +0000</td>\n",
       "      <td>count/min</td>\n",
       "      <td>74.0</td>\n",
       "      <td>0</td>\n",
       "    </tr>\n",
       "    <tr>\n",
       "      <th>3</th>\n",
       "      <td>2022-04-27 20:02:27+00:00</td>\n",
       "      <td>2022-04-27 20:02:27 +0000</td>\n",
       "      <td>2022-04-27 20:02:27 +0000</td>\n",
       "      <td>count/min</td>\n",
       "      <td>79.0</td>\n",
       "      <td>0</td>\n",
       "    </tr>\n",
       "    <tr>\n",
       "      <th>4</th>\n",
       "      <td>2022-04-27 20:08:53+00:00</td>\n",
       "      <td>2022-04-27 20:08:53 +0000</td>\n",
       "      <td>2022-04-27 20:08:53 +0000</td>\n",
       "      <td>count/min</td>\n",
       "      <td>74.0</td>\n",
       "      <td>0</td>\n",
       "    </tr>\n",
       "    <tr>\n",
       "      <th>...</th>\n",
       "      <td>...</td>\n",
       "      <td>...</td>\n",
       "      <td>...</td>\n",
       "      <td>...</td>\n",
       "      <td>...</td>\n",
       "      <td>...</td>\n",
       "    </tr>\n",
       "    <tr>\n",
       "      <th>2907</th>\n",
       "      <td>2022-04-28 21:20:05+00:00</td>\n",
       "      <td>2022-04-28 21:20:05 +0000</td>\n",
       "      <td>2022-04-28 21:20:05 +0000</td>\n",
       "      <td>count/min</td>\n",
       "      <td>65.0</td>\n",
       "      <td>0</td>\n",
       "    </tr>\n",
       "    <tr>\n",
       "      <th>2908</th>\n",
       "      <td>2022-04-28 21:27:46+00:00</td>\n",
       "      <td>2022-04-28 21:27:46 +0000</td>\n",
       "      <td>2022-04-28 21:27:46 +0000</td>\n",
       "      <td>count/min</td>\n",
       "      <td>63.0</td>\n",
       "      <td>0</td>\n",
       "    </tr>\n",
       "    <tr>\n",
       "      <th>2909</th>\n",
       "      <td>2022-04-28 21:31:59+00:00</td>\n",
       "      <td>2022-04-28 21:31:59 +0000</td>\n",
       "      <td>2022-04-28 21:31:59 +0000</td>\n",
       "      <td>count/min</td>\n",
       "      <td>67.0</td>\n",
       "      <td>0</td>\n",
       "    </tr>\n",
       "    <tr>\n",
       "      <th>2910</th>\n",
       "      <td>2022-04-28 21:37:11+00:00</td>\n",
       "      <td>2022-04-28 21:37:11 +0000</td>\n",
       "      <td>2022-04-28 21:37:11 +0000</td>\n",
       "      <td>count/min</td>\n",
       "      <td>65.0</td>\n",
       "      <td>0</td>\n",
       "    </tr>\n",
       "    <tr>\n",
       "      <th>2911</th>\n",
       "      <td>2022-04-28 21:40:22+00:00</td>\n",
       "      <td>2022-04-28 21:40:22 +0000</td>\n",
       "      <td>2022-04-28 21:40:22 +0000</td>\n",
       "      <td>count/min</td>\n",
       "      <td>63.0</td>\n",
       "      <td>0</td>\n",
       "    </tr>\n",
       "  </tbody>\n",
       "</table>\n",
       "<p>2912 rows × 6 columns</p>\n",
       "</div>"
      ],
      "text/plain": [
       "                     timestamp                  startDate  \\\n",
       "0    2022-04-27 19:48:34+00:00  2022-04-27 19:48:34 +0000   \n",
       "1    2022-04-27 19:49:36+00:00  2022-04-27 19:49:36 +0000   \n",
       "2    2022-04-27 19:57:00+00:00  2022-04-27 19:57:00 +0000   \n",
       "3    2022-04-27 20:02:27+00:00  2022-04-27 20:02:27 +0000   \n",
       "4    2022-04-27 20:08:53+00:00  2022-04-27 20:08:53 +0000   \n",
       "...                        ...                        ...   \n",
       "2907 2022-04-28 21:20:05+00:00  2022-04-28 21:20:05 +0000   \n",
       "2908 2022-04-28 21:27:46+00:00  2022-04-28 21:27:46 +0000   \n",
       "2909 2022-04-28 21:31:59+00:00  2022-04-28 21:31:59 +0000   \n",
       "2910 2022-04-28 21:37:11+00:00  2022-04-28 21:37:11 +0000   \n",
       "2911 2022-04-28 21:40:22+00:00  2022-04-28 21:40:22 +0000   \n",
       "\n",
       "                        endDate       unit  value  \\\n",
       "0     2022-04-27 19:48:34 +0000  count/min   76.0   \n",
       "1     2022-04-27 19:49:36 +0000  count/min   79.0   \n",
       "2     2022-04-27 19:57:00 +0000  count/min   74.0   \n",
       "3     2022-04-27 20:02:27 +0000  count/min   79.0   \n",
       "4     2022-04-27 20:08:53 +0000  count/min   74.0   \n",
       "...                         ...        ...    ...   \n",
       "2907  2022-04-28 21:20:05 +0000  count/min   65.0   \n",
       "2908  2022-04-28 21:27:46 +0000  count/min   63.0   \n",
       "2909  2022-04-28 21:31:59 +0000  count/min   67.0   \n",
       "2910  2022-04-28 21:37:11 +0000  count/min   65.0   \n",
       "2911  2022-04-28 21:40:22 +0000  count/min   63.0   \n",
       "\n",
       "      HKMetadataKeyHeartRateMotionContext  \n",
       "0                                       0  \n",
       "1                                       0  \n",
       "2                                       0  \n",
       "3                                       0  \n",
       "4                                       0  \n",
       "...                                   ...  \n",
       "2907                                    0  \n",
       "2908                                    0  \n",
       "2909                                    0  \n",
       "2910                                    0  \n",
       "2911                                    0  \n",
       "\n",
       "[2912 rows x 6 columns]"
      ]
     },
     "execution_count": 24,
     "metadata": {},
     "output_type": "execute_result"
    }
   ],
   "source": [
    "df"
   ]
  },
  {
   "cell_type": "code",
   "execution_count": 25,
   "metadata": {},
   "outputs": [],
   "source": [
    "df = df.set_index(\"timestamp\")"
   ]
  },
  {
   "cell_type": "code",
   "execution_count": 26,
   "metadata": {},
   "outputs": [
    {
     "data": {
      "text/html": [
       "<div>\n",
       "<style scoped>\n",
       "    .dataframe tbody tr th:only-of-type {\n",
       "        vertical-align: middle;\n",
       "    }\n",
       "\n",
       "    .dataframe tbody tr th {\n",
       "        vertical-align: top;\n",
       "    }\n",
       "\n",
       "    .dataframe thead th {\n",
       "        text-align: right;\n",
       "    }\n",
       "</style>\n",
       "<table border=\"1\" class=\"dataframe\">\n",
       "  <thead>\n",
       "    <tr style=\"text-align: right;\">\n",
       "      <th></th>\n",
       "      <th>startDate</th>\n",
       "      <th>endDate</th>\n",
       "      <th>unit</th>\n",
       "      <th>value</th>\n",
       "      <th>HKMetadataKeyHeartRateMotionContext</th>\n",
       "    </tr>\n",
       "    <tr>\n",
       "      <th>timestamp</th>\n",
       "      <th></th>\n",
       "      <th></th>\n",
       "      <th></th>\n",
       "      <th></th>\n",
       "      <th></th>\n",
       "    </tr>\n",
       "  </thead>\n",
       "  <tbody>\n",
       "    <tr>\n",
       "      <th>2022-04-27 19:48:34+00:00</th>\n",
       "      <td>2022-04-27 19:48:34 +0000</td>\n",
       "      <td>2022-04-27 19:48:34 +0000</td>\n",
       "      <td>count/min</td>\n",
       "      <td>76.0</td>\n",
       "      <td>0</td>\n",
       "    </tr>\n",
       "    <tr>\n",
       "      <th>2022-04-27 19:49:36+00:00</th>\n",
       "      <td>2022-04-27 19:49:36 +0000</td>\n",
       "      <td>2022-04-27 19:49:36 +0000</td>\n",
       "      <td>count/min</td>\n",
       "      <td>79.0</td>\n",
       "      <td>0</td>\n",
       "    </tr>\n",
       "    <tr>\n",
       "      <th>2022-04-27 19:57:00+00:00</th>\n",
       "      <td>2022-04-27 19:57:00 +0000</td>\n",
       "      <td>2022-04-27 19:57:00 +0000</td>\n",
       "      <td>count/min</td>\n",
       "      <td>74.0</td>\n",
       "      <td>0</td>\n",
       "    </tr>\n",
       "    <tr>\n",
       "      <th>2022-04-27 20:02:27+00:00</th>\n",
       "      <td>2022-04-27 20:02:27 +0000</td>\n",
       "      <td>2022-04-27 20:02:27 +0000</td>\n",
       "      <td>count/min</td>\n",
       "      <td>79.0</td>\n",
       "      <td>0</td>\n",
       "    </tr>\n",
       "    <tr>\n",
       "      <th>2022-04-27 20:08:53+00:00</th>\n",
       "      <td>2022-04-27 20:08:53 +0000</td>\n",
       "      <td>2022-04-27 20:08:53 +0000</td>\n",
       "      <td>count/min</td>\n",
       "      <td>74.0</td>\n",
       "      <td>0</td>\n",
       "    </tr>\n",
       "    <tr>\n",
       "      <th>...</th>\n",
       "      <td>...</td>\n",
       "      <td>...</td>\n",
       "      <td>...</td>\n",
       "      <td>...</td>\n",
       "      <td>...</td>\n",
       "    </tr>\n",
       "    <tr>\n",
       "      <th>2022-04-28 21:20:05+00:00</th>\n",
       "      <td>2022-04-28 21:20:05 +0000</td>\n",
       "      <td>2022-04-28 21:20:05 +0000</td>\n",
       "      <td>count/min</td>\n",
       "      <td>65.0</td>\n",
       "      <td>0</td>\n",
       "    </tr>\n",
       "    <tr>\n",
       "      <th>2022-04-28 21:27:46+00:00</th>\n",
       "      <td>2022-04-28 21:27:46 +0000</td>\n",
       "      <td>2022-04-28 21:27:46 +0000</td>\n",
       "      <td>count/min</td>\n",
       "      <td>63.0</td>\n",
       "      <td>0</td>\n",
       "    </tr>\n",
       "    <tr>\n",
       "      <th>2022-04-28 21:31:59+00:00</th>\n",
       "      <td>2022-04-28 21:31:59 +0000</td>\n",
       "      <td>2022-04-28 21:31:59 +0000</td>\n",
       "      <td>count/min</td>\n",
       "      <td>67.0</td>\n",
       "      <td>0</td>\n",
       "    </tr>\n",
       "    <tr>\n",
       "      <th>2022-04-28 21:37:11+00:00</th>\n",
       "      <td>2022-04-28 21:37:11 +0000</td>\n",
       "      <td>2022-04-28 21:37:11 +0000</td>\n",
       "      <td>count/min</td>\n",
       "      <td>65.0</td>\n",
       "      <td>0</td>\n",
       "    </tr>\n",
       "    <tr>\n",
       "      <th>2022-04-28 21:40:22+00:00</th>\n",
       "      <td>2022-04-28 21:40:22 +0000</td>\n",
       "      <td>2022-04-28 21:40:22 +0000</td>\n",
       "      <td>count/min</td>\n",
       "      <td>63.0</td>\n",
       "      <td>0</td>\n",
       "    </tr>\n",
       "  </tbody>\n",
       "</table>\n",
       "<p>2912 rows × 5 columns</p>\n",
       "</div>"
      ],
      "text/plain": [
       "                                           startDate  \\\n",
       "timestamp                                              \n",
       "2022-04-27 19:48:34+00:00  2022-04-27 19:48:34 +0000   \n",
       "2022-04-27 19:49:36+00:00  2022-04-27 19:49:36 +0000   \n",
       "2022-04-27 19:57:00+00:00  2022-04-27 19:57:00 +0000   \n",
       "2022-04-27 20:02:27+00:00  2022-04-27 20:02:27 +0000   \n",
       "2022-04-27 20:08:53+00:00  2022-04-27 20:08:53 +0000   \n",
       "...                                              ...   \n",
       "2022-04-28 21:20:05+00:00  2022-04-28 21:20:05 +0000   \n",
       "2022-04-28 21:27:46+00:00  2022-04-28 21:27:46 +0000   \n",
       "2022-04-28 21:31:59+00:00  2022-04-28 21:31:59 +0000   \n",
       "2022-04-28 21:37:11+00:00  2022-04-28 21:37:11 +0000   \n",
       "2022-04-28 21:40:22+00:00  2022-04-28 21:40:22 +0000   \n",
       "\n",
       "                                             endDate       unit  value  \\\n",
       "timestamp                                                                \n",
       "2022-04-27 19:48:34+00:00  2022-04-27 19:48:34 +0000  count/min   76.0   \n",
       "2022-04-27 19:49:36+00:00  2022-04-27 19:49:36 +0000  count/min   79.0   \n",
       "2022-04-27 19:57:00+00:00  2022-04-27 19:57:00 +0000  count/min   74.0   \n",
       "2022-04-27 20:02:27+00:00  2022-04-27 20:02:27 +0000  count/min   79.0   \n",
       "2022-04-27 20:08:53+00:00  2022-04-27 20:08:53 +0000  count/min   74.0   \n",
       "...                                              ...        ...    ...   \n",
       "2022-04-28 21:20:05+00:00  2022-04-28 21:20:05 +0000  count/min   65.0   \n",
       "2022-04-28 21:27:46+00:00  2022-04-28 21:27:46 +0000  count/min   63.0   \n",
       "2022-04-28 21:31:59+00:00  2022-04-28 21:31:59 +0000  count/min   67.0   \n",
       "2022-04-28 21:37:11+00:00  2022-04-28 21:37:11 +0000  count/min   65.0   \n",
       "2022-04-28 21:40:22+00:00  2022-04-28 21:40:22 +0000  count/min   63.0   \n",
       "\n",
       "                           HKMetadataKeyHeartRateMotionContext  \n",
       "timestamp                                                       \n",
       "2022-04-27 19:48:34+00:00                                    0  \n",
       "2022-04-27 19:49:36+00:00                                    0  \n",
       "2022-04-27 19:57:00+00:00                                    0  \n",
       "2022-04-27 20:02:27+00:00                                    0  \n",
       "2022-04-27 20:08:53+00:00                                    0  \n",
       "...                                                        ...  \n",
       "2022-04-28 21:20:05+00:00                                    0  \n",
       "2022-04-28 21:27:46+00:00                                    0  \n",
       "2022-04-28 21:31:59+00:00                                    0  \n",
       "2022-04-28 21:37:11+00:00                                    0  \n",
       "2022-04-28 21:40:22+00:00                                    0  \n",
       "\n",
       "[2912 rows x 5 columns]"
      ]
     },
     "execution_count": 26,
     "metadata": {},
     "output_type": "execute_result"
    }
   ],
   "source": [
    "df"
   ]
  },
  {
   "cell_type": "code",
   "execution_count": 27,
   "metadata": {},
   "outputs": [],
   "source": [
    "rr_interval = 60000 / df[\"value\"]"
   ]
  },
  {
   "cell_type": "code",
   "execution_count": 28,
   "metadata": {},
   "outputs": [
    {
     "data": {
      "text/plain": [
       "timestamp\n",
       "2022-04-27 19:48:34+00:00    789.473684\n",
       "2022-04-27 19:49:36+00:00    759.493671\n",
       "2022-04-27 19:57:00+00:00    810.810811\n",
       "2022-04-27 20:02:27+00:00    759.493671\n",
       "2022-04-27 20:08:53+00:00    810.810811\n",
       "                                ...    \n",
       "2022-04-28 21:20:05+00:00    923.076923\n",
       "2022-04-28 21:27:46+00:00    952.380952\n",
       "2022-04-28 21:31:59+00:00    895.522388\n",
       "2022-04-28 21:37:11+00:00    923.076923\n",
       "2022-04-28 21:40:22+00:00    952.380952\n",
       "Name: value, Length: 2912, dtype: float64"
      ]
     },
     "execution_count": 28,
     "metadata": {},
     "output_type": "execute_result"
    }
   ],
   "source": [
    "rr_interval"
   ]
  },
  {
   "cell_type": "code",
   "execution_count": 30,
   "metadata": {},
   "outputs": [],
   "source": [
    "df.insert(4, \"rr_interval\", rr_interval)"
   ]
  },
  {
   "cell_type": "code",
   "execution_count": 31,
   "metadata": {},
   "outputs": [
    {
     "data": {
      "text/html": [
       "<div>\n",
       "<style scoped>\n",
       "    .dataframe tbody tr th:only-of-type {\n",
       "        vertical-align: middle;\n",
       "    }\n",
       "\n",
       "    .dataframe tbody tr th {\n",
       "        vertical-align: top;\n",
       "    }\n",
       "\n",
       "    .dataframe thead th {\n",
       "        text-align: right;\n",
       "    }\n",
       "</style>\n",
       "<table border=\"1\" class=\"dataframe\">\n",
       "  <thead>\n",
       "    <tr style=\"text-align: right;\">\n",
       "      <th></th>\n",
       "      <th>startDate</th>\n",
       "      <th>endDate</th>\n",
       "      <th>unit</th>\n",
       "      <th>value</th>\n",
       "      <th>rr_interval</th>\n",
       "      <th>HKMetadataKeyHeartRateMotionContext</th>\n",
       "    </tr>\n",
       "    <tr>\n",
       "      <th>timestamp</th>\n",
       "      <th></th>\n",
       "      <th></th>\n",
       "      <th></th>\n",
       "      <th></th>\n",
       "      <th></th>\n",
       "      <th></th>\n",
       "    </tr>\n",
       "  </thead>\n",
       "  <tbody>\n",
       "    <tr>\n",
       "      <th>2022-04-27 19:48:34+00:00</th>\n",
       "      <td>2022-04-27 19:48:34 +0000</td>\n",
       "      <td>2022-04-27 19:48:34 +0000</td>\n",
       "      <td>count/min</td>\n",
       "      <td>76.0</td>\n",
       "      <td>789.473684</td>\n",
       "      <td>0</td>\n",
       "    </tr>\n",
       "    <tr>\n",
       "      <th>2022-04-27 19:49:36+00:00</th>\n",
       "      <td>2022-04-27 19:49:36 +0000</td>\n",
       "      <td>2022-04-27 19:49:36 +0000</td>\n",
       "      <td>count/min</td>\n",
       "      <td>79.0</td>\n",
       "      <td>759.493671</td>\n",
       "      <td>0</td>\n",
       "    </tr>\n",
       "    <tr>\n",
       "      <th>2022-04-27 19:57:00+00:00</th>\n",
       "      <td>2022-04-27 19:57:00 +0000</td>\n",
       "      <td>2022-04-27 19:57:00 +0000</td>\n",
       "      <td>count/min</td>\n",
       "      <td>74.0</td>\n",
       "      <td>810.810811</td>\n",
       "      <td>0</td>\n",
       "    </tr>\n",
       "    <tr>\n",
       "      <th>2022-04-27 20:02:27+00:00</th>\n",
       "      <td>2022-04-27 20:02:27 +0000</td>\n",
       "      <td>2022-04-27 20:02:27 +0000</td>\n",
       "      <td>count/min</td>\n",
       "      <td>79.0</td>\n",
       "      <td>759.493671</td>\n",
       "      <td>0</td>\n",
       "    </tr>\n",
       "    <tr>\n",
       "      <th>2022-04-27 20:08:53+00:00</th>\n",
       "      <td>2022-04-27 20:08:53 +0000</td>\n",
       "      <td>2022-04-27 20:08:53 +0000</td>\n",
       "      <td>count/min</td>\n",
       "      <td>74.0</td>\n",
       "      <td>810.810811</td>\n",
       "      <td>0</td>\n",
       "    </tr>\n",
       "    <tr>\n",
       "      <th>...</th>\n",
       "      <td>...</td>\n",
       "      <td>...</td>\n",
       "      <td>...</td>\n",
       "      <td>...</td>\n",
       "      <td>...</td>\n",
       "      <td>...</td>\n",
       "    </tr>\n",
       "    <tr>\n",
       "      <th>2022-04-28 21:20:05+00:00</th>\n",
       "      <td>2022-04-28 21:20:05 +0000</td>\n",
       "      <td>2022-04-28 21:20:05 +0000</td>\n",
       "      <td>count/min</td>\n",
       "      <td>65.0</td>\n",
       "      <td>923.076923</td>\n",
       "      <td>0</td>\n",
       "    </tr>\n",
       "    <tr>\n",
       "      <th>2022-04-28 21:27:46+00:00</th>\n",
       "      <td>2022-04-28 21:27:46 +0000</td>\n",
       "      <td>2022-04-28 21:27:46 +0000</td>\n",
       "      <td>count/min</td>\n",
       "      <td>63.0</td>\n",
       "      <td>952.380952</td>\n",
       "      <td>0</td>\n",
       "    </tr>\n",
       "    <tr>\n",
       "      <th>2022-04-28 21:31:59+00:00</th>\n",
       "      <td>2022-04-28 21:31:59 +0000</td>\n",
       "      <td>2022-04-28 21:31:59 +0000</td>\n",
       "      <td>count/min</td>\n",
       "      <td>67.0</td>\n",
       "      <td>895.522388</td>\n",
       "      <td>0</td>\n",
       "    </tr>\n",
       "    <tr>\n",
       "      <th>2022-04-28 21:37:11+00:00</th>\n",
       "      <td>2022-04-28 21:37:11 +0000</td>\n",
       "      <td>2022-04-28 21:37:11 +0000</td>\n",
       "      <td>count/min</td>\n",
       "      <td>65.0</td>\n",
       "      <td>923.076923</td>\n",
       "      <td>0</td>\n",
       "    </tr>\n",
       "    <tr>\n",
       "      <th>2022-04-28 21:40:22+00:00</th>\n",
       "      <td>2022-04-28 21:40:22 +0000</td>\n",
       "      <td>2022-04-28 21:40:22 +0000</td>\n",
       "      <td>count/min</td>\n",
       "      <td>63.0</td>\n",
       "      <td>952.380952</td>\n",
       "      <td>0</td>\n",
       "    </tr>\n",
       "  </tbody>\n",
       "</table>\n",
       "<p>2912 rows × 6 columns</p>\n",
       "</div>"
      ],
      "text/plain": [
       "                                           startDate  \\\n",
       "timestamp                                              \n",
       "2022-04-27 19:48:34+00:00  2022-04-27 19:48:34 +0000   \n",
       "2022-04-27 19:49:36+00:00  2022-04-27 19:49:36 +0000   \n",
       "2022-04-27 19:57:00+00:00  2022-04-27 19:57:00 +0000   \n",
       "2022-04-27 20:02:27+00:00  2022-04-27 20:02:27 +0000   \n",
       "2022-04-27 20:08:53+00:00  2022-04-27 20:08:53 +0000   \n",
       "...                                              ...   \n",
       "2022-04-28 21:20:05+00:00  2022-04-28 21:20:05 +0000   \n",
       "2022-04-28 21:27:46+00:00  2022-04-28 21:27:46 +0000   \n",
       "2022-04-28 21:31:59+00:00  2022-04-28 21:31:59 +0000   \n",
       "2022-04-28 21:37:11+00:00  2022-04-28 21:37:11 +0000   \n",
       "2022-04-28 21:40:22+00:00  2022-04-28 21:40:22 +0000   \n",
       "\n",
       "                                             endDate       unit  value  \\\n",
       "timestamp                                                                \n",
       "2022-04-27 19:48:34+00:00  2022-04-27 19:48:34 +0000  count/min   76.0   \n",
       "2022-04-27 19:49:36+00:00  2022-04-27 19:49:36 +0000  count/min   79.0   \n",
       "2022-04-27 19:57:00+00:00  2022-04-27 19:57:00 +0000  count/min   74.0   \n",
       "2022-04-27 20:02:27+00:00  2022-04-27 20:02:27 +0000  count/min   79.0   \n",
       "2022-04-27 20:08:53+00:00  2022-04-27 20:08:53 +0000  count/min   74.0   \n",
       "...                                              ...        ...    ...   \n",
       "2022-04-28 21:20:05+00:00  2022-04-28 21:20:05 +0000  count/min   65.0   \n",
       "2022-04-28 21:27:46+00:00  2022-04-28 21:27:46 +0000  count/min   63.0   \n",
       "2022-04-28 21:31:59+00:00  2022-04-28 21:31:59 +0000  count/min   67.0   \n",
       "2022-04-28 21:37:11+00:00  2022-04-28 21:37:11 +0000  count/min   65.0   \n",
       "2022-04-28 21:40:22+00:00  2022-04-28 21:40:22 +0000  count/min   63.0   \n",
       "\n",
       "                           rr_interval  HKMetadataKeyHeartRateMotionContext  \n",
       "timestamp                                                                    \n",
       "2022-04-27 19:48:34+00:00   789.473684                                    0  \n",
       "2022-04-27 19:49:36+00:00   759.493671                                    0  \n",
       "2022-04-27 19:57:00+00:00   810.810811                                    0  \n",
       "2022-04-27 20:02:27+00:00   759.493671                                    0  \n",
       "2022-04-27 20:08:53+00:00   810.810811                                    0  \n",
       "...                                ...                                  ...  \n",
       "2022-04-28 21:20:05+00:00   923.076923                                    0  \n",
       "2022-04-28 21:27:46+00:00   952.380952                                    0  \n",
       "2022-04-28 21:31:59+00:00   895.522388                                    0  \n",
       "2022-04-28 21:37:11+00:00   923.076923                                    0  \n",
       "2022-04-28 21:40:22+00:00   952.380952                                    0  \n",
       "\n",
       "[2912 rows x 6 columns]"
      ]
     },
     "execution_count": 31,
     "metadata": {},
     "output_type": "execute_result"
    }
   ],
   "source": [
    "df"
   ]
  },
  {
   "cell_type": "code",
   "execution_count": 35,
   "metadata": {},
   "outputs": [
    {
     "data": {
      "text/plain": [
       "<AxesSubplot:>"
      ]
     },
     "execution_count": 35,
     "metadata": {},
     "output_type": "execute_result"
    },
    {
     "data": {
      "image/png": "[encoded data removed]",
      "text/plain": [
       "<Figure size 432x288 with 1 Axes>"
      ]
     },
     "metadata": {
      "needs_background": "light"
     },
     "output_type": "display_data"
    }
   ],
   "source": [
    "df[[\"value\", \"rr_interval\"]].plot.box()"
   ]
  },
  {
   "cell_type": "code",
   "execution_count": 38,
   "metadata": {},
   "outputs": [
    {
     "data": {
      "text/plain": [
       "<AxesSubplot:xlabel='value', ylabel='rr_interval'>"
      ]
     },
     "execution_count": 38,
     "metadata": {},
     "output_type": "execute_result"
    },
    {
     "data": {
      "image/png": "[encoded data removed]",
      "text/plain": [
       "<Figure size 432x288 with 1 Axes>"
      ]
     },
     "metadata": {
      "needs_background": "light"
     },
     "output_type": "display_data"
    }
   ],
   "source": [
    "df.plot.scatter(x=\"value\", y=\"rr_interval\")"
   ]
  },
  {
   "cell_type": "code",
   "execution_count": 39,
   "metadata": {},
   "outputs": [
    {
     "data": {
      "text/plain": [
       "<AxesSubplot:xlabel='timestamp'>"
      ]
     },
     "execution_count": 39,
     "metadata": {},
     "output_type": "execute_result"
    },
    {
     "data": {
      "image/png": "[encoded data removed]",
      "text/plain": [
       "<Figure size 432x288 with 1 Axes>"
      ]
     },
     "metadata": {
      "needs_background": "light"
     },
     "output_type": "display_data"
    }
   ],
   "source": [
    "df.plot.line()"
   ]
  },
  {
   "cell_type": "code",
   "execution_count": null,
   "metadata": {},
   "outputs": [],
   "source": [
    "sdnn = []\n",
    "for row in df.itertuples():\n",
    "    sdnn.append(df[row.Index - pd.to_timedelta(\"1 min\") : row.Index][\"rr_interval\"].std())\n"
   ]
  }
 ],
 "metadata": {
  "interpreter": {
   "hash": "b0fa6594d8f4cbf19f97940f81e996739fb7646882a419484c72d19e05852a7e"
  },
  "kernelspec": {
   "display_name": "Python 3.9.12 64-bit",
   "language": "python",
   "name": "python3"
  },
  "language_info": {
   "codemirror_mode": {
    "name": "ipython",
    "version": 3
   },
   "file_extension": ".py",
   "mimetype": "text/x-python",
   "name": "python",
   "nbconvert_exporter": "python",
   "pygments_lexer": "ipython3",
   "version": "3.9.12"
  },
  "orig_nbformat": 4
 },
 "nbformat": 4,
 "nbformat_minor": 2
}
